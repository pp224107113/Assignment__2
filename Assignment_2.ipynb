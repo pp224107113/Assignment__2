{
 "cells": [
  {
   "cell_type": "code",
   "execution_count": 1,
   "id": "f0082958-7f5e-4d6c-865e-2f1fcfd617d5",
   "metadata": {},
   "outputs": [],
   "source": [
    "# Q_1\n",
    "# we can use hash sign(#) for comment before the every single line of code.\n",
    "# we can also use triple quotation mark(\"\"\").Using triple quotation mark close all multiple lines and convert to string.\n",
    "# Two type of comment is there - 1) single line comment. 2)- multiple line comment\n"
   ]
  },
  {
   "cell_type": "code",
   "execution_count": 4,
   "id": "1e2a86cc-f7cf-4675-ac7b-83f9a1be98d9",
   "metadata": {},
   "outputs": [
    {
     "data": {
      "text/plain": [
       "int"
      ]
     },
     "execution_count": 4,
     "metadata": {},
     "output_type": "execute_result"
    }
   ],
   "source": [
    "# Q_2\n",
    "# Varaible in Python -\n",
    "# Variables are assigning the value for object.\n",
    "# It stores value in computer memory.\n",
    "# It acts like a container.\n",
    "# It stores different data type value for example str, int, float, list, tuple, complex etc. \n",
    "# Variable are used to store data and manipulate during execution of program.\n",
    "A = 34\n",
    "# A is variable, it assign value 34.\n",
    "type (A)"
   ]
  },
  {
   "cell_type": "code",
   "execution_count": 8,
   "id": "18dd430e-7049-43de-a112-bb7cc1dfe98d",
   "metadata": {},
   "outputs": [],
   "source": [
    "# Q_3\n",
    "# Convert one data type to another data type just put that data type function before the variable.\n",
    "# Different type of data type function is there int, float, str, list, tuple.\n",
    "A_int = 34\n",
    "type(A_int)\n",
    "B_str = str(A_int)"
   ]
  },
  {
   "cell_type": "code",
   "execution_count": 11,
   "id": "c5ddcc89-3858-41fb-a564-e013ff8b8bc7",
   "metadata": {},
   "outputs": [
    {
     "data": {
      "text/plain": [
       "int"
      ]
     },
     "execution_count": 11,
     "metadata": {},
     "output_type": "execute_result"
    }
   ],
   "source": [
    "type(A_int)"
   ]
  },
  {
   "cell_type": "code",
   "execution_count": 12,
   "id": "cca3c8d5-0cb6-4d6e-9ac3-c61b5d357216",
   "metadata": {},
   "outputs": [
    {
     "data": {
      "text/plain": [
       "str"
      ]
     },
     "execution_count": 12,
     "metadata": {},
     "output_type": "execute_result"
    }
   ],
   "source": [
    "type(B_str)"
   ]
  },
  {
   "cell_type": "code",
   "execution_count": 13,
   "id": "92d858f7-39fe-4683-a734-42d873e5cd84",
   "metadata": {},
   "outputs": [
    {
     "data": {
      "text/plain": [
       "'34'"
      ]
     },
     "execution_count": 13,
     "metadata": {},
     "output_type": "execute_result"
    }
   ],
   "source": [
    "B_str"
   ]
  },
  {
   "cell_type": "code",
   "execution_count": 14,
   "id": "2676eb21-3dd7-4e94-8dfb-b660fef7e7cf",
   "metadata": {},
   "outputs": [],
   "source": [
    "# Variable B_str is string. We convert variable A_int integer to string. "
   ]
  },
  {
   "cell_type": "code",
   "execution_count": 22,
   "id": "5a7f6d67-c504-4700-9bb2-46fc9e6c25f7",
   "metadata": {},
   "outputs": [
    {
     "name": "stdout",
     "output_type": "stream",
     "text": [
      "mukesh rank in top 2000\n"
     ]
    }
   ],
   "source": [
    "# Q_4\n",
    "marks = 45\n",
    "if marks >= 85:\n",
    "    print(\"mukesh rank in top 80\")\n",
    "elif marks >= 60 and marks < 85:\n",
    "        print(\"mukesh rank in top 200\")\n",
    "elif marks>= 40 and marks <60:\n",
    "        print(\"mukesh rank in top 2000\")\n",
    "else:\n",
    "    print(\"not qualified\")\n",
    "# (base) jovyan@8779f2a67b7f:~/work$ ls\n",
    "#  assignment                   README.md           Untitled1.ipynb\n",
    "#  Assignment_1.ipynb           sample-code.ipynb   Untitled2.ipynb\n",
    "#  Assignment_2.ipynb           script.ipynb        Untitled3.ipynb\n",
    "#  condition                    script.py           Untitled4.ipynb\n",
    "#  condition.ipynb              string.ipynb        Untitled5.ipynb\n",
    "#  Dictionary.ipynb             Untitled12.ipynb    Untitled7.ipynb\n",
    "# 'list, tuple and set.ipynb'   Untitled13.ipynb    Untitled8.ipynb\n",
    "#  Q_4_script.ipynb             Untitled14.ipynb    Untitled.ipynb\n",
    "# (base) jovyan@8779f2a67b7f:~/work$ python Q_4_script.ipynb\n",
    "# mukesh rank in top 2000\n",
    "    "
   ]
  },
  {
   "cell_type": "code",
   "execution_count": 29,
   "id": "79f7e89b-0f1d-43c4-b72e-3ccd68057c9c",
   "metadata": {},
   "outputs": [
    {
     "data": {
      "text/plain": [
       "[2, 3]"
      ]
     },
     "execution_count": 29,
     "metadata": {},
     "output_type": "execute_result"
    }
   ],
   "source": [
    "# Q_5\n",
    "my_list = [1,2,3,4,5]\n",
    "my_list[1:3]\n"
   ]
  },
  {
   "cell_type": "code",
   "execution_count": 31,
   "id": "11edfae7-459a-44c8-8eb5-7ad6d0f05fd7",
   "metadata": {},
   "outputs": [
    {
     "data": {
      "text/plain": [
       "complex"
      ]
     },
     "execution_count": 31,
     "metadata": {},
     "output_type": "execute_result"
    }
   ],
   "source": [
    "# Q_6\n",
    "# Complex number(x)= a + bi\n",
    "# a = real part and b = imaginary part\n",
    "# complex number represented by (a +bj) replace i by j.example-\n",
    "x = 5 + 8j\n",
    "type(x)"
   ]
  },
  {
   "cell_type": "code",
   "execution_count": 32,
   "id": "60b9a0b4-238b-412b-900f-f562dbe18ab6",
   "metadata": {},
   "outputs": [],
   "source": [
    "# Q_7\n",
    "age = 25"
   ]
  },
  {
   "cell_type": "code",
   "execution_count": 33,
   "id": "84471d8b-454d-400d-b45a-4d514fc4cc98",
   "metadata": {},
   "outputs": [
    {
     "data": {
      "text/plain": [
       "float"
      ]
     },
     "execution_count": 33,
     "metadata": {},
     "output_type": "execute_result"
    }
   ],
   "source": [
    "# Q_8\n",
    "price = 9.99\n",
    "type(price)"
   ]
  },
  {
   "cell_type": "code",
   "execution_count": 34,
   "id": "19506104-5d9c-4bc0-b359-296f3e46fba4",
   "metadata": {},
   "outputs": [
    {
     "name": "stdout",
     "output_type": "stream",
     "text": [
      "pawan\n"
     ]
    }
   ],
   "source": [
    "# Q_9\n",
    "name = \"pawan\"\n",
    "print(name)"
   ]
  },
  {
   "cell_type": "code",
   "execution_count": 37,
   "id": "e64430d9-5771-4e69-b964-466aa129a2f3",
   "metadata": {},
   "outputs": [
    {
     "data": {
      "text/plain": [
       "'World'"
      ]
     },
     "execution_count": 37,
     "metadata": {},
     "output_type": "execute_result"
    }
   ],
   "source": [
    "# Q_10\n",
    "a = \"Hello, World\"\n",
    "a[7:]\n"
   ]
  },
  {
   "cell_type": "code",
   "execution_count": 39,
   "id": "d908bc78-247b-4125-be17-43a678f1a45f",
   "metadata": {},
   "outputs": [
    {
     "data": {
      "text/plain": [
       "bool"
      ]
     },
     "execution_count": 39,
     "metadata": {},
     "output_type": "execute_result"
    }
   ],
   "source": [
    "# Q_11\n",
    "is_student = True\n",
    "type(is_student)"
   ]
  },
  {
   "cell_type": "code",
   "execution_count": null,
   "id": "861a6521-e421-446d-9f74-6651ac152522",
   "metadata": {},
   "outputs": [],
   "source": []
  }
 ],
 "metadata": {
  "kernelspec": {
   "display_name": "Python 3 (ipykernel)",
   "language": "python",
   "name": "python3"
  },
  "language_info": {
   "codemirror_mode": {
    "name": "ipython",
    "version": 3
   },
   "file_extension": ".py",
   "mimetype": "text/x-python",
   "name": "python",
   "nbconvert_exporter": "python",
   "pygments_lexer": "ipython3",
   "version": "3.10.8"
  },
  "toc-autonumbering": true
 },
 "nbformat": 4,
 "nbformat_minor": 5
}
